{
 "cells": [
  {
   "cell_type": "code",
   "execution_count": 1,
   "id": "59e75433",
   "metadata": {},
   "outputs": [
    {
     "data": {
      "text/plain": [
       "'\\n* floating -- for most deep learning tasks ---> float32, float64, float16\\n* integers - for categorical data and indices --> int32, int64, int8\\n* booleans - mask or logical operation\\n* Complex number - advanced computation --> complex64, complex128\\n\\nmemory consumption : float16 << float32 << float64\\ncomputation : lower precision will be faster on gpu\\nnumberical precision : float64 is more precise than float32\\n'"
      ]
     },
     "execution_count": 1,
     "metadata": {},
     "output_type": "execute_result"
    }
   ],
   "source": [
    "# data types for tensors\n",
    "'''\n",
    "* floating -- for most deep learning tasks ---> float32, float64, float16\n",
    "* integers - for categorical data and indices --> int32, int64, int8\n",
    "* booleans - mask or logical operation\n",
    "* Complex number - advanced computation --> complex64, complex128\n",
    "\n",
    "memory consumption : float16 << float32 << float64\n",
    "computation : lower precision will be faster on gpu\n",
    "numberical precision : float64 is more precise than float32\n",
    "'''"
   ]
  },
  {
   "cell_type": "code",
   "execution_count": 2,
   "id": "66e493c8",
   "metadata": {},
   "outputs": [],
   "source": [
    "import torch"
   ]
  },
  {
   "cell_type": "code",
   "execution_count": 3,
   "id": "87f1faaf",
   "metadata": {},
   "outputs": [
    {
     "name": "stdout",
     "output_type": "stream",
     "text": [
      "torch.float32\n"
     ]
    }
   ],
   "source": [
    "default_tensor = torch.tensor([1.5, 2.5, 3.5])\n",
    "print(default_tensor.dtype)"
   ]
  },
  {
   "cell_type": "code",
   "execution_count": 5,
   "id": "b410e9f8",
   "metadata": {},
   "outputs": [
    {
     "name": "stdout",
     "output_type": "stream",
     "text": [
      "torch.float64\n"
     ]
    }
   ],
   "source": [
    "float_tensor = torch.tensor([1.5, 2.5, 3.5], dtype=torch.float64)\n",
    "print(float_tensor.dtype)"
   ]
  },
  {
   "cell_type": "code",
   "execution_count": 4,
   "id": "d4146d47",
   "metadata": {},
   "outputs": [
    {
     "name": "stdout",
     "output_type": "stream",
     "text": [
      "torch.int32\n",
      "tensor([1, 2, 3], dtype=torch.int32)\n"
     ]
    }
   ],
   "source": [
    "int_tensor = torch.tensor([1.5, 2.5, 3.5], dtype=torch.int32)\n",
    "print(int_tensor.dtype)\n",
    "print(int_tensor)"
   ]
  },
  {
   "cell_type": "code",
   "execution_count": 6,
   "id": "0583e837",
   "metadata": {},
   "outputs": [
    {
     "name": "stdout",
     "output_type": "stream",
     "text": [
      "torch.int64\n",
      "tensor([1, 2, 3])\n"
     ]
    }
   ],
   "source": [
    "int_tensor = torch.tensor([1, 2, 3])\n",
    "print(int_tensor.dtype)\n",
    "print(int_tensor)"
   ]
  },
  {
   "cell_type": "code",
   "execution_count": 7,
   "id": "c2eb12e0",
   "metadata": {},
   "outputs": [
    {
     "name": "stdout",
     "output_type": "stream",
     "text": [
      "torch.bool\n",
      "tensor([ True, False,  True])\n"
     ]
    }
   ],
   "source": [
    "bool_tensor = torch.tensor([True, False, True], dtype=torch.bool)\n",
    "print(bool_tensor.dtype)\n",
    "print(bool_tensor)"
   ]
  },
  {
   "cell_type": "code",
   "execution_count": 8,
   "id": "00ed6539",
   "metadata": {},
   "outputs": [
    {
     "name": "stdout",
     "output_type": "stream",
     "text": [
      "torch.float32\n",
      "tensor([1.5000, 2.5000, 3.5000])\n",
      "torch.int64\n",
      "tensor([1, 2, 3])\n",
      "torch.bool\n",
      "tensor([False,  True,  True, False,  True])\n"
     ]
    }
   ],
   "source": [
    "float_tensor = torch.tensor([1.5, 2.5, 3.5])\n",
    "print(float_tensor.dtype)\n",
    "print(float_tensor)\n",
    "\n",
    "int_tensor = float_tensor.to(torch.int64)\n",
    "print(int_tensor.dtype)\n",
    "print(int_tensor)\n",
    "\n",
    "int_tensor = torch.tensor([0,1,2,0, -1])\n",
    "bool_tensor = int_tensor.to(torch.bool)\n",
    "print(bool_tensor.dtype)\n",
    "print(bool_tensor)"
   ]
  },
  {
   "cell_type": "markdown",
   "id": "437c7075",
   "metadata": {},
   "source": [
    "### Impact of Data Type on memory"
   ]
  },
  {
   "cell_type": "code",
   "execution_count": 9,
   "id": "1d095b17",
   "metadata": {},
   "outputs": [
    {
     "name": "stdout",
     "output_type": "stream",
     "text": [
      "4\n",
      "1000\n",
      "Memory used by float32 tensor :  4000  bytes\n",
      "Memory used by float64 tensor :  8000  bytes\n"
     ]
    }
   ],
   "source": [
    "float32_tensor = torch.ones(1000, dtype=torch.float32)\n",
    "float64_tensor = torch.ones(1000, dtype=torch.float64)\n",
    "\n",
    "# tensor.element_size()\n",
    "# element_size() --> gives you the size of one element in bytes\n",
    "# nelement() --> gives the total number of elements in tensor\n",
    "\n",
    "print(float32_tensor.element_size())\n",
    "print(float32_tensor.nelement())\n",
    "print(\"Memory used by float32 tensor : \", float32_tensor.element_size() * float32_tensor.nelement(), \" bytes\")\n",
    "print(\"Memory used by float64 tensor : \", float64_tensor.element_size() * float64_tensor.nelement(), \" bytes\")"
   ]
  },
  {
   "cell_type": "code",
   "execution_count": null,
   "id": "e8c284b5",
   "metadata": {},
   "outputs": [],
   "source": [
    "# float32 --> default for most NN models\n",
    "# float64 --> high precision computation\n",
    "# int32 --> general purpose integer\n",
    "# int64 --> tensor indices\n",
    "# int8, int16 --> reduce memory usage\n",
    "# bool --> mask and logical operation\n",
    "# float16 --> half precision of your default floating dtype, reduce memory usage\n",
    "# complex64 --> advanced computation"
   ]
  }
 ],
 "metadata": {
  "kernelspec": {
   "display_name": "Python 3",
   "language": "python",
   "name": "python3"
  },
  "language_info": {
   "codemirror_mode": {
    "name": "ipython",
    "version": 3
   },
   "file_extension": ".py",
   "mimetype": "text/x-python",
   "name": "python",
   "nbconvert_exporter": "python",
   "pygments_lexer": "ipython3",
   "version": "3.11.8"
  }
 },
 "nbformat": 4,
 "nbformat_minor": 5
}
