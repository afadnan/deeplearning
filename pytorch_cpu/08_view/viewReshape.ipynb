{
 "cells": [
  {
   "cell_type": "code",
   "execution_count": 1,
   "id": "1cc74dff",
   "metadata": {},
   "outputs": [],
   "source": [
    "import torch"
   ]
  },
  {
   "cell_type": "code",
   "execution_count": 3,
   "id": "18392bcc",
   "metadata": {},
   "outputs": [],
   "source": [
    "tensor = torch.arange(12)"
   ]
  },
  {
   "cell_type": "code",
   "execution_count": 6,
   "id": "aeec52ee",
   "metadata": {},
   "outputs": [
    {
     "name": "stdout",
     "output_type": "stream",
     "text": [
      "tensor([[ 0,  1,  2,  3,  4,  5],\n",
      "        [ 6,  7,  8,  9, 10, 11]])\n",
      "tensor([[ 0,  1,  2,  3,  4,  5],\n",
      "        [ 6,  7,  8,  9, 10, 11]])\n",
      "torch.Size([2, 6])\n"
     ]
    }
   ],
   "source": [
    "tensor_view = tensor.view(2,6)\n",
    "tensor_reshape = tensor.reshape(2,6)\n",
    "\n",
    "print(tensor_view)\n",
    "print(tensor_reshape)\n",
    "\n",
    "print(tensor_view.shape)"
   ]
  },
  {
   "cell_type": "code",
   "execution_count": 7,
   "id": "781e4bfd",
   "metadata": {},
   "outputs": [
    {
     "data": {
      "text/plain": [
       "True"
      ]
     },
     "execution_count": 7,
     "metadata": {},
     "output_type": "execute_result"
    }
   ],
   "source": [
    "tensor.is_contiguous()"
   ]
  },
  {
   "cell_type": "code",
   "execution_count": null,
   "id": "2783773b",
   "metadata": {},
   "outputs": [
    {
     "data": {
      "text/plain": [
       "True"
      ]
     },
     "execution_count": 9,
     "metadata": {},
     "output_type": "execute_result"
    }
   ],
   "source": [
    "tensor_reshape.is_contiguous()\n"
   ]
  },
  {
   "cell_type": "code",
   "execution_count": 10,
   "id": "561b25a9",
   "metadata": {},
   "outputs": [
    {
     "data": {
      "text/plain": [
       "True"
      ]
     },
     "execution_count": 10,
     "metadata": {},
     "output_type": "execute_result"
    }
   ],
   "source": [
    "tensor_view.is_contiguous()"
   ]
  },
  {
   "cell_type": "code",
   "execution_count": 11,
   "id": "737a7537",
   "metadata": {},
   "outputs": [
    {
     "name": "stdout",
     "output_type": "stream",
     "text": [
      "tensor([[ 0,  1,  2,  3],\n",
      "        [ 4,  5,  6,  7],\n",
      "        [ 8,  9, 10, 11]])\n",
      "torch.Size([3, 4])\n"
     ]
    }
   ],
   "source": [
    "inferred_shape = tensor.view(3,-1)\n",
    "print(inferred_shape)\n",
    "print(inferred_shape.shape)"
   ]
  },
  {
   "cell_type": "code",
   "execution_count": 12,
   "id": "dbc6f60e",
   "metadata": {},
   "outputs": [
    {
     "name": "stdout",
     "output_type": "stream",
     "text": [
      "tensor([[[ 0,  1,  2,  3],\n",
      "         [ 4,  5,  6,  7],\n",
      "         [ 8,  9, 10, 11]],\n",
      "\n",
      "        [[12, 13, 14, 15],\n",
      "         [16, 17, 18, 19],\n",
      "         [20, 21, 22, 23]]])\n"
     ]
    }
   ],
   "source": [
    "tensor3d = torch.arange(24).reshape(2,3,4)\n",
    "print(tensor3d)"
   ]
  },
  {
   "cell_type": "code",
   "execution_count": 13,
   "id": "55b82bc4",
   "metadata": {},
   "outputs": [
    {
     "name": "stdout",
     "output_type": "stream",
     "text": [
      "tensor([ 0,  1,  2,  3,  4,  5,  6,  7,  8,  9, 10, 11, 12, 13, 14, 15, 16, 17,\n",
      "        18, 19, 20, 21, 22, 23])\n"
     ]
    }
   ],
   "source": [
    "flattened = tensor3d.view(-1)\n",
    "print(flattened)"
   ]
  },
  {
   "cell_type": "code",
   "execution_count": 14,
   "id": "4308d6a7",
   "metadata": {},
   "outputs": [
    {
     "data": {
      "text/plain": [
       "True"
      ]
     },
     "execution_count": 14,
     "metadata": {},
     "output_type": "execute_result"
    }
   ],
   "source": [
    "flattened.is_contiguous()"
   ]
  },
  {
   "cell_type": "markdown",
   "id": "1e3f5c8c",
   "metadata": {},
   "source": [
    "## Non-Contiguous"
   ]
  },
  {
   "cell_type": "code",
   "execution_count": 15,
   "id": "7dbcd4a4",
   "metadata": {},
   "outputs": [],
   "source": [
    "tensor2d = torch.arange(24).reshape(12,2)\n",
    "transpose_tensor = tensor2d.t()"
   ]
  },
  {
   "cell_type": "code",
   "execution_count": 17,
   "id": "38e6d778",
   "metadata": {},
   "outputs": [
    {
     "data": {
      "text/plain": [
       "False"
      ]
     },
     "execution_count": 17,
     "metadata": {},
     "output_type": "execute_result"
    }
   ],
   "source": [
    "transpose_tensor.is_contiguous()"
   ]
  },
  {
   "cell_type": "code",
   "execution_count": 18,
   "id": "2547b05c",
   "metadata": {},
   "outputs": [],
   "source": [
    "error = transpose_tensor.reshape(6,4)"
   ]
  },
  {
   "cell_type": "code",
   "execution_count": 19,
   "id": "fcb38353",
   "metadata": {},
   "outputs": [
    {
     "name": "stdout",
     "output_type": "stream",
     "text": [
      "tensor([[ 0,  2,  4,  6],\n",
      "        [ 8, 10, 12, 14],\n",
      "        [16, 18, 20, 22],\n",
      "        [ 1,  3,  5,  7],\n",
      "        [ 9, 11, 13, 15],\n",
      "        [17, 19, 21, 23]])\n",
      "torch.Size([6, 4])\n"
     ]
    }
   ],
   "source": [
    "print(error)\n",
    "print(error.shape)"
   ]
  },
  {
   "cell_type": "code",
   "execution_count": 20,
   "id": "845d6d08",
   "metadata": {},
   "outputs": [],
   "source": [
    "contiguous = transpose_tensor.contiguous()\n",
    "error = contiguous.view(6,4)"
   ]
  },
  {
   "cell_type": "code",
   "execution_count": 21,
   "id": "6676615e",
   "metadata": {},
   "outputs": [
    {
     "name": "stdout",
     "output_type": "stream",
     "text": [
      "tensor([[ 0,  2,  4,  6],\n",
      "        [ 8, 10, 12, 14],\n",
      "        [16, 18, 20, 22],\n",
      "        [ 1,  3,  5,  7],\n",
      "        [ 9, 11, 13, 15],\n",
      "        [17, 19, 21, 23]])\n",
      "torch.Size([6, 4])\n"
     ]
    }
   ],
   "source": [
    "print(error)\n",
    "print(error.shape)"
   ]
  },
  {
   "cell_type": "code",
   "execution_count": null,
   "id": "e06911a0",
   "metadata": {},
   "outputs": [],
   "source": []
  }
 ],
 "metadata": {
  "kernelspec": {
   "display_name": "Python 3",
   "language": "python",
   "name": "python3"
  },
  "language_info": {
   "codemirror_mode": {
    "name": "ipython",
    "version": 3
   },
   "file_extension": ".py",
   "mimetype": "text/x-python",
   "name": "python",
   "nbconvert_exporter": "python",
   "pygments_lexer": "ipython3",
   "version": "3.11.8"
  }
 },
 "nbformat": 4,
 "nbformat_minor": 5
}
