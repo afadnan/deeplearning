{
 "cells": [
  {
   "cell_type": "markdown",
   "id": "19480ed5",
   "metadata": {},
   "source": [
    "## Matrix Aggregation"
   ]
  },
  {
   "cell_type": "code",
   "execution_count": 1,
   "id": "e1947f6c",
   "metadata": {},
   "outputs": [],
   "source": [
    "import torch"
   ]
  },
  {
   "cell_type": "code",
   "execution_count": 2,
   "id": "34c597ae",
   "metadata": {},
   "outputs": [
    {
     "name": "stdout",
     "output_type": "stream",
     "text": [
      "tensor([[1., 2., 3.],\n",
      "        [4., 5., 6.],\n",
      "        [7., 8., 9.]])\n"
     ]
    }
   ],
   "source": [
    "matrix = torch.tensor([[1., 2., 3.],\n",
    "              [4., 5., 6.],\n",
    "              [7., 8., 9.],])\n",
    "\n",
    "print(matrix)"
   ]
  },
  {
   "cell_type": "code",
   "execution_count": 3,
   "id": "9e2aca54",
   "metadata": {},
   "outputs": [
    {
     "name": "stdout",
     "output_type": "stream",
     "text": [
      "tensor(45.)\n",
      "tensor(1.)\n",
      "tensor(9.)\n",
      "tensor(5.)\n",
      "tensor(5.)\n"
     ]
    }
   ],
   "source": [
    "print(matrix.sum())\n",
    "print(matrix.min())\n",
    "print(matrix.max())\n",
    "print(matrix.median())\n",
    "print(matrix.mean())"
   ]
  },
  {
   "cell_type": "code",
   "execution_count": 4,
   "id": "fea314e3",
   "metadata": {},
   "outputs": [
    {
     "name": "stdout",
     "output_type": "stream",
     "text": [
      "torch.return_types.max(\n",
      "values=tensor([7., 8., 9.]),\n",
      "indices=tensor([2, 2, 2]))\n",
      "tensor([12., 15., 18.])\n",
      "tensor([ 6., 15., 24.])\n"
     ]
    }
   ],
   "source": [
    "# dim=0 --> rows (column)\n",
    "# dim=1 --> colmn (rows)\n",
    "\n",
    "print(matrix.max(dim=0))\n",
    "print(matrix.sum(dim=0))\n",
    "print(matrix.sum(dim=1))"
   ]
  },
  {
   "cell_type": "code",
   "execution_count": 5,
   "id": "d54a7f8e",
   "metadata": {},
   "outputs": [
    {
     "name": "stdout",
     "output_type": "stream",
     "text": [
      "tensor([[ 1.,  3.,  6.],\n",
      "        [ 4.,  9., 15.],\n",
      "        [ 7., 15., 24.]])\n"
     ]
    }
   ],
   "source": [
    "cumulative_sum = matrix.cumsum(dim=1)\n",
    "print(cumulative_sum)"
   ]
  },
  {
   "cell_type": "code",
   "execution_count": 6,
   "id": "d729f53e",
   "metadata": {},
   "outputs": [
    {
     "name": "stdout",
     "output_type": "stream",
     "text": [
      "tensor([[  1.,   2.,   3.],\n",
      "        [  4.,  10.,  18.],\n",
      "        [ 28.,  80., 162.]])\n"
     ]
    }
   ],
   "source": [
    "cumulative_prod = matrix.cumprod(dim=0)\n",
    "print(cumulative_prod)"
   ]
  },
  {
   "cell_type": "code",
   "execution_count": 7,
   "id": "38ef4693",
   "metadata": {},
   "outputs": [
    {
     "name": "stdout",
     "output_type": "stream",
     "text": [
      "tensor(30.)\n"
     ]
    }
   ],
   "source": [
    "# advance aggregation\n",
    "\n",
    "masked_matrix_sum = matrix[matrix>5].sum()\n",
    "print(masked_matrix_sum)"
   ]
  },
  {
   "cell_type": "code",
   "execution_count": 8,
   "id": "b23e39ee",
   "metadata": {},
   "outputs": [
    {
     "name": "stdout",
     "output_type": "stream",
     "text": [
      "tensor([[0, 0],\n",
      "        [0, 1],\n",
      "        [0, 2],\n",
      "        [1, 0],\n",
      "        [1, 1],\n",
      "        [1, 2],\n",
      "        [2, 0],\n",
      "        [2, 1],\n",
      "        [2, 2]])\n",
      "torch.Size([9, 2])\n",
      "9\n"
     ]
    }
   ],
   "source": [
    "matrix = torch.tensor([[1., 2., 3.],\n",
    "              [4., 5., 6.],\n",
    "              [7., 8., 9.],])\n",
    "\n",
    "non_zero = matrix.nonzero()\n",
    "print(non_zero)\n",
    "print(non_zero.shape)\n",
    "print(non_zero.size(0))"
   ]
  },
  {
   "cell_type": "markdown",
   "id": "b56ce23f",
   "metadata": {},
   "source": [
    "## Normalised Matrix"
   ]
  },
  {
   "cell_type": "code",
   "execution_count": 9,
   "id": "e8edb1b9",
   "metadata": {},
   "outputs": [
    {
     "name": "stdout",
     "output_type": "stream",
     "text": [
      "tensor([[0.0000, 0.1250, 0.2500],\n",
      "        [0.3750, 0.5000, 0.6250],\n",
      "        [0.7500, 0.8750, 1.0000]])\n"
     ]
    }
   ],
   "source": [
    "max_v = matrix.max()\n",
    "min_v = matrix.min()\n",
    "normalised_matrix = (matrix - min_v) / (max_v - min_v)\n",
    "\n",
    "print(normalised_matrix)"
   ]
  },
  {
   "cell_type": "code",
   "execution_count": null,
   "id": "f9dee7de",
   "metadata": {},
   "outputs": [],
   "source": []
  }
 ],
 "metadata": {
  "kernelspec": {
   "display_name": "Python 3",
   "language": "python",
   "name": "python3"
  },
  "language_info": {
   "codemirror_mode": {
    "name": "ipython",
    "version": 3
   },
   "file_extension": ".py",
   "mimetype": "text/x-python",
   "name": "python",
   "nbconvert_exporter": "python",
   "pygments_lexer": "ipython3",
   "version": "3.11.8"
  }
 },
 "nbformat": 4,
 "nbformat_minor": 5
}
