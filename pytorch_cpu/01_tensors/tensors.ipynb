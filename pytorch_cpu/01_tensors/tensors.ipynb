{
 "cells": [
  {
   "cell_type": "markdown",
   "id": "60d78a2d",
   "metadata": {},
   "source": [
    "## Introduction to tensors"
   ]
  },
  {
   "cell_type": "markdown",
   "id": "da9c90f5",
   "metadata": {},
   "source": [
    "a tensor is the fundamental building block — it's a multi-dimensional array, similar to NumPy arrays, but with additional capabilities optimized for deep learning, especially on GPUs.\n",
    "\n",
    "##### Think of a tensor like this:\n",
    "Scalar (0D Tensor): torch.tensor(5)\n",
    "\n",
    "Vector (1D Tensor): torch.tensor([1, 2, 3])\n",
    "\n",
    "Matrix (2D Tensor): torch.tensor([[1, 2], [3, 4]])\n",
    "\n",
    "Higher dimensions: You can go beyond 2D — 3D, 4D, etc., which are used a lot in image and video data, or sequence modeling."
   ]
  },
  {
   "cell_type": "code",
   "execution_count": 1,
   "id": "642dccec",
   "metadata": {},
   "outputs": [],
   "source": [
    "import torch"
   ]
  },
  {
   "cell_type": "markdown",
   "id": "60c85787",
   "metadata": {},
   "source": [
    "### Creating tensors"
   ]
  },
  {
   "cell_type": "code",
   "execution_count": 2,
   "id": "a134bb64",
   "metadata": {},
   "outputs": [
    {
     "name": "stdout",
     "output_type": "stream",
     "text": [
      "Scalar tensor :  tensor(42)\n",
      "Scalar Dimension :  0\n",
      "Shape of Scalar tensor :  torch.Size([])\n"
     ]
    }
   ],
   "source": [
    "# 1. Scalar tensor 0D\n",
    "\n",
    "scalar = torch.tensor(42)\n",
    "print(\"Scalar tensor : \", scalar)\n",
    "print(\"Scalar Dimension : \", scalar.ndim)\n",
    "print(\"Shape of Scalar tensor : \", scalar.shape)"
   ]
  },
  {
   "cell_type": "code",
   "execution_count": 3,
   "id": "4c324343",
   "metadata": {},
   "outputs": [
    {
     "name": "stdout",
     "output_type": "stream",
     "text": [
      "vector tensor :  tensor([1, 2, 3])\n",
      "vector Dimension :  1\n",
      "Shape of vector tensor :  torch.Size([3])\n"
     ]
    }
   ],
   "source": [
    "# 1D tensor : Vector\n",
    "\n",
    "vector = torch.tensor([1,2,3])\n",
    "print(\"vector tensor : \", vector)\n",
    "print(\"vector Dimension : \", vector.ndim)\n",
    "print(\"Shape of vector tensor : \", vector.shape)\n"
   ]
  },
  {
   "cell_type": "code",
   "execution_count": null,
   "id": "68931329",
   "metadata": {},
   "outputs": [
    {
     "name": "stdout",
     "output_type": "stream",
     "text": [
      "matrix tensor :  tensor([[1., 2.],\n",
      "        [3., 4.]])\n",
      "matrix Dimension :  2\n",
      "Shape of matrix tensor :  torch.Size([2, 2])\n"
     ]
    }
   ],
   "source": [
    "# matrix : 2D tensor\n",
    "\n",
    "matrix = torch.tensor([[1.,2.], [3.,4.]])\n",
    "print(\"matrix tensor : \", matrix)\n",
    "print(\"matrix Dimension : \", matrix.ndim)\n",
    "print(\"Shape of matrix tensor : \", matrix.shape)"
   ]
  },
  {
   "cell_type": "code",
   "execution_count": null,
   "id": "c74525ff",
   "metadata": {},
   "outputs": [
    {
     "name": "stdout",
     "output_type": "stream",
     "text": [
      "tensor3d tensor :  tensor([[[1, 2],\n",
      "         [3, 4]],\n",
      "\n",
      "        [[1, 2],\n",
      "         [3, 4]]])\n",
      "tensor3d Dimension :  3\n",
      "Shape of tensor3d tensor :  torch.Size([2, 2, 2])\n"
     ]
    }
   ],
   "source": [
    "# matrix : 3D tensor\n",
    "tensor3d = torch.tensor([\n",
    "                      [[1,2], [3,4]],\n",
    "                      [[1,2], [3,4]]\n",
    "                      ])\n",
    "print(\"tensor3d tensor : \", tensor3d)\n",
    "print(\"tensor3d Dimension : \", tensor3d.ndim)\n",
    "print(\"Shape of tensor3d tensor : \", tensor3d.shape)"
   ]
  },
  {
   "cell_type": "code",
   "execution_count": 6,
   "id": "482a886f",
   "metadata": {},
   "outputs": [
    {
     "name": "stdout",
     "output_type": "stream",
     "text": [
      "CUDA is not available on this machine.\n"
     ]
    }
   ],
   "source": [
    "# GPU acceleration\n",
    "\n",
    "if torch.cuda.is_available():\n",
    "  gpu_tensor = vector.to('cuda')\n",
    "  print(\"Tensor on GPU: \", gpu_tensor)\n",
    "else:\n",
    "  print(\"CUDA is not available on this machine.\")"
   ]
  },
  {
   "cell_type": "code",
   "execution_count": 7,
   "id": "732b40b1",
   "metadata": {},
   "outputs": [
    {
     "name": "stdout",
     "output_type": "stream",
     "text": [
      "Data type of matrix : torch.float32\n",
      "Device of Tensor :  cpu\n"
     ]
    },
    {
     "ename": "NameError",
     "evalue": "name 'gpu_tensor' is not defined",
     "output_type": "error",
     "traceback": [
      "\u001b[31m---------------------------------------------------------------------------\u001b[39m",
      "\u001b[31mNameError\u001b[39m                                 Traceback (most recent call last)",
      "\u001b[36mCell\u001b[39m\u001b[36m \u001b[39m\u001b[32mIn[7]\u001b[39m\u001b[32m, line 6\u001b[39m\n\u001b[32m      3\u001b[39m \u001b[38;5;28mprint\u001b[39m(\u001b[33m\"\u001b[39m\u001b[33mData type of matrix :\u001b[39m\u001b[33m\"\u001b[39m, matrix.dtype)\n\u001b[32m      5\u001b[39m \u001b[38;5;28mprint\u001b[39m(\u001b[33m\"\u001b[39m\u001b[33mDevice of Tensor : \u001b[39m\u001b[33m\"\u001b[39m, matrix.device)\n\u001b[32m----> \u001b[39m\u001b[32m6\u001b[39m \u001b[38;5;28mprint\u001b[39m(\u001b[33m\"\u001b[39m\u001b[33mDevice of Tensor : \u001b[39m\u001b[33m\"\u001b[39m, \u001b[43mgpu_tensor\u001b[49m.device)\n\u001b[32m      8\u001b[39m \u001b[38;5;28mprint\u001b[39m(\u001b[33m\"\u001b[39m\u001b[33mIs tensor on CUDA : \u001b[39m\u001b[33m\"\u001b[39m, matrix.is_cuda)\n\u001b[32m      9\u001b[39m \u001b[38;5;28mprint\u001b[39m(\u001b[33m\"\u001b[39m\u001b[33mIs tensor on CUDA : \u001b[39m\u001b[33m\"\u001b[39m, gpu_tensor.is_cuda)\n",
      "\u001b[31mNameError\u001b[39m: name 'gpu_tensor' is not defined"
     ]
    }
   ],
   "source": [
    "# Tensor properties\n",
    "\n",
    "print(\"Data type of matrix :\", matrix.dtype)\n",
    "\n",
    "print(\"Device of Tensor : \", matrix.device)\n",
    "print(\"Device of Tensor : \", gpu_tensor.device)\n",
    "\n",
    "print(\"Is tensor on CUDA : \", matrix.is_cuda)\n",
    "print(\"Is tensor on CUDA : \", gpu_tensor.is_cuda)\n",
    "\n",
    "print(\"Size: \", matrix.size())\n",
    "\n",
    "print(\"Number of elements : \", matrix.numel())"
   ]
  },
  {
   "cell_type": "code",
   "execution_count": 8,
   "id": "76f2a13c",
   "metadata": {},
   "outputs": [
    {
     "name": "stdout",
     "output_type": "stream",
     "text": [
      "zsh:1: command not found: nvidia-smi\n"
     ]
    }
   ],
   "source": [
    "!nvidia-smi"
   ]
  }
 ],
 "metadata": {
  "kernelspec": {
   "display_name": "Python 3",
   "language": "python",
   "name": "python3"
  },
  "language_info": {
   "codemirror_mode": {
    "name": "ipython",
    "version": 3
   },
   "file_extension": ".py",
   "mimetype": "text/x-python",
   "name": "python",
   "nbconvert_exporter": "python",
   "pygments_lexer": "ipython3",
   "version": "3.11.8"
  }
 },
 "nbformat": 4,
 "nbformat_minor": 5
}
