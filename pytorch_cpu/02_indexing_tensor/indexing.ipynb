{
 "cells": [
  {
   "cell_type": "markdown",
   "id": "601a4afb",
   "metadata": {},
   "source": [
    "## Indexing Tensors"
   ]
  },
  {
   "cell_type": "code",
   "execution_count": 1,
   "id": "dc77888e",
   "metadata": {},
   "outputs": [],
   "source": [
    "# Accessing elements in a tensor\n",
    "'''\n",
    "tensor[row, column]\n",
    "'''\n",
    "\n",
    "import torch"
   ]
  },
  {
   "cell_type": "code",
   "execution_count": 2,
   "id": "654159e6",
   "metadata": {},
   "outputs": [
    {
     "name": "stdout",
     "output_type": "stream",
     "text": [
      "2\n",
      "torch.Size([3, 3])\n"
     ]
    }
   ],
   "source": [
    "tensor = torch.tensor([[10,20,30],\n",
    "                       [40, 50, 60],\n",
    "                       [70, 80, 90]])\n",
    "print(tensor.ndim)\n",
    "print(tensor.shape)"
   ]
  },
  {
   "cell_type": "code",
   "execution_count": 3,
   "id": "0152e743",
   "metadata": {},
   "outputs": [
    {
     "name": "stdout",
     "output_type": "stream",
     "text": [
      "Element at (0, 1):  tensor(20)\n"
     ]
    }
   ],
   "source": [
    "print(\"Element at (0, 1): \", tensor[0,1])"
   ]
  },
  {
   "cell_type": "code",
   "execution_count": 4,
   "id": "071c77a1",
   "metadata": {},
   "outputs": [
    {
     "data": {
      "text/plain": [
       "tensor([10, 20, 30])"
      ]
     },
     "execution_count": 4,
     "metadata": {},
     "output_type": "execute_result"
    }
   ],
   "source": [
    "# Access first row\n",
    "tensor[0]"
   ]
  },
  {
   "cell_type": "code",
   "execution_count": 5,
   "id": "0feb8b90",
   "metadata": {},
   "outputs": [
    {
     "data": {
      "text/plain": [
       "tensor([10, 40, 70])"
      ]
     },
     "execution_count": 5,
     "metadata": {},
     "output_type": "execute_result"
    }
   ],
   "source": [
    "# Access first column\n",
    "tensor[:, 0]"
   ]
  },
  {
   "cell_type": "markdown",
   "id": "f1b78ede",
   "metadata": {},
   "source": [
    "### 2.Slicing"
   ]
  },
  {
   "cell_type": "code",
   "execution_count": 6,
   "id": "b6cb90e5",
   "metadata": {},
   "outputs": [
    {
     "name": "stdout",
     "output_type": "stream",
     "text": [
      "First two rows : \n",
      " tensor([[10, 20, 30],\n",
      "        [40, 50, 60]])\n"
     ]
    }
   ],
   "source": [
    "print(\"First two rows : \\n\", tensor[:2])"
   ]
  },
  {
   "cell_type": "code",
   "execution_count": 7,
   "id": "dde8209a",
   "metadata": {},
   "outputs": [
    {
     "name": "stdout",
     "output_type": "stream",
     "text": [
      "tensor([[10, 20, 30],\n",
      "        [40, 50, 60],\n",
      "        [70, 80, 90]])\n",
      "First two columns : \n",
      " tensor([[10, 20],\n",
      "        [40, 50],\n",
      "        [70, 80]])\n"
     ]
    }
   ],
   "source": [
    "print(tensor)\n",
    "print(\"First two columns : \\n\", tensor[:, :2])"
   ]
  },
  {
   "cell_type": "code",
   "execution_count": 8,
   "id": "45540b2e",
   "metadata": {},
   "outputs": [
    {
     "name": "stdout",
     "output_type": "stream",
     "text": [
      "tensor([50, 60])\n"
     ]
    }
   ],
   "source": [
    "# Middle elements (row 1,column 1 and 2 only)\n",
    "print(tensor[1, 1:3])"
   ]
  },
  {
   "cell_type": "code",
   "execution_count": 9,
   "id": "c1970e2d",
   "metadata": {},
   "outputs": [
    {
     "name": "stdout",
     "output_type": "stream",
     "text": [
      "tensor([20, 90])\n"
     ]
    }
   ],
   "source": [
    "# Fancy indexing\n",
    "# (0,1) --> 20\n",
    "# (2,2) --> 90\n",
    "selected_elements = tensor[[0,2],[1,2]]\n",
    "print(selected_elements)"
   ]
  },
  {
   "cell_type": "code",
   "execution_count": 10,
   "id": "2f9a8563",
   "metadata": {},
   "outputs": [
    {
     "name": "stdout",
     "output_type": "stream",
     "text": [
      "tensor([[False, False, False],\n",
      "        [False, False,  True],\n",
      "        [ True,  True,  True]])\n",
      "tensor([60, 70, 80, 90])\n"
     ]
    }
   ],
   "source": [
    "# boolean indexing\n",
    "\n",
    "mask = tensor > 50\n",
    "print(mask)\n",
    "print(tensor[mask])"
   ]
  },
  {
   "cell_type": "code",
   "execution_count": null,
   "id": "d3a5a068",
   "metadata": {},
   "outputs": [
    {
     "name": "stdout",
     "output_type": "stream",
     "text": [
      "tensor([[10, 20, 30],\n",
      "        [40, 50, 60],\n",
      "        [70, 80, 90]])\n",
      "tensor([[10, 25, 30],\n",
      "        [40, 50, 60],\n",
      "        [70, 80, 90]])\n"
     ]
    }
   ],
   "source": [
    "# Changing tensor values via indexing\n",
    "print(tensor)\n",
    "tensor[0,1] = 25\n",
    "print(tensor)"
   ]
  },
  {
   "cell_type": "code",
   "execution_count": 12,
   "id": "0fa18bec",
   "metadata": {},
   "outputs": [
    {
     "name": "stdout",
     "output_type": "stream",
     "text": [
      "tensor([[100,  25,  30],\n",
      "        [200,  50,  60],\n",
      "        [300,  80,  90]])\n"
     ]
    }
   ],
   "source": [
    "tensor[:,0] = torch.tensor([100,200,300])\n",
    "print(tensor)"
   ]
  },
  {
   "cell_type": "code",
   "execution_count": 13,
   "id": "2a6d29c8",
   "metadata": {},
   "outputs": [
    {
     "name": "stdout",
     "output_type": "stream",
     "text": [
      "tensor([[100,  30],\n",
      "        [200,  60],\n",
      "        [300,  90]])\n"
     ]
    }
   ],
   "source": [
    "indices = torch.tensor([0,2])\n",
    "selected_rows = torch.index_select(tensor,dim=1,index=indices)\n",
    "print(selected_rows)"
   ]
  },
  {
   "cell_type": "code",
   "execution_count": 14,
   "id": "c377133a",
   "metadata": {},
   "outputs": [
    {
     "name": "stdout",
     "output_type": "stream",
     "text": [
      "tensor([[100,  30],\n",
      "        [200,  60],\n",
      "        [300,  90]])\n"
     ]
    }
   ],
   "source": [
    "# using tensor with steps\n",
    "\n",
    "print(tensor[:, ::2])"
   ]
  },
  {
   "cell_type": "code",
   "execution_count": 15,
   "id": "7a0c88e9",
   "metadata": {},
   "outputs": [
    {
     "data": {
      "text/plain": [
       "tensor([[300,  80,  90],\n",
       "        [200,  50,  60],\n",
       "        [100,  25,  30]])"
      ]
     },
     "execution_count": 15,
     "metadata": {},
     "output_type": "execute_result"
    }
   ],
   "source": [
    "# print(tensor[::-1])\n",
    "torch.flip(tensor, dims=(0,))"
   ]
  },
  {
   "cell_type": "code",
   "execution_count": null,
   "id": "86958f6f",
   "metadata": {},
   "outputs": [],
   "source": []
  }
 ],
 "metadata": {
  "kernelspec": {
   "display_name": "Python 3",
   "language": "python",
   "name": "python3"
  },
  "language_info": {
   "codemirror_mode": {
    "name": "ipython",
    "version": 3
   },
   "file_extension": ".py",
   "mimetype": "text/x-python",
   "name": "python",
   "nbconvert_exporter": "python",
   "pygments_lexer": "ipython3",
   "version": "3.11.8"
  }
 },
 "nbformat": 4,
 "nbformat_minor": 5
}
