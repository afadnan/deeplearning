{
 "cells": [
  {
   "cell_type": "code",
   "execution_count": null,
   "id": "8c16e348",
   "metadata": {},
   "outputs": [],
   "source": []
  },
  {
   "cell_type": "markdown",
   "id": "d497705a",
   "metadata": {},
   "source": [
    "## tensor manipulation\n",
    "\n",
    "- reshaping\n",
    "- slicing\n",
    "- joining or splitting\n",
    "- transposing and permuting dimension"
   ]
  },
  {
   "cell_type": "code",
   "execution_count": 1,
   "id": "87fa0454",
   "metadata": {},
   "outputs": [],
   "source": [
    "import torch"
   ]
  },
  {
   "cell_type": "code",
   "execution_count": 2,
   "id": "e70786dc",
   "metadata": {},
   "outputs": [
    {
     "name": "stdout",
     "output_type": "stream",
     "text": [
      "tensor([ 0,  1,  2,  3,  4,  5,  6,  7,  8,  9, 10, 11])\n",
      "12\n",
      "1\n"
     ]
    }
   ],
   "source": [
    "# reshaping tensors\n",
    "# reshape\n",
    "# view\n",
    "\n",
    "original_tensor = torch.arange(12)\n",
    "print(original_tensor)\n",
    "print(original_tensor.nelement())\n",
    "print(original_tensor.ndim)"
   ]
  },
  {
   "cell_type": "code",
   "execution_count": 3,
   "id": "7ee6a920",
   "metadata": {},
   "outputs": [
    {
     "name": "stdout",
     "output_type": "stream",
     "text": [
      "tensor([[ 0,  1,  2,  3,  4,  5],\n",
      "        [ 6,  7,  8,  9, 10, 11]])\n",
      "2\n",
      "12\n"
     ]
    }
   ],
   "source": [
    "# 2x6--> 12\n",
    "\n",
    "reshaped_tensor = original_tensor.reshape(2,6)\n",
    "print(reshaped_tensor)\n",
    "print(reshaped_tensor.ndim)\n",
    "print(reshaped_tensor.nelement())\n"
   ]
  },
  {
   "cell_type": "code",
   "execution_count": 4,
   "id": "8138aabb",
   "metadata": {},
   "outputs": [
    {
     "name": "stdout",
     "output_type": "stream",
     "text": [
      "tensor([[ 0,  1,  2,  3],\n",
      "        [ 4,  5,  6,  7],\n",
      "        [ 8,  9, 10, 11]])\n",
      "2\n",
      "12\n"
     ]
    }
   ],
   "source": [
    "reshaped_tensor = original_tensor.reshape(3,4)\n",
    "print(reshaped_tensor)\n",
    "print(reshaped_tensor.ndim)\n",
    "print(reshaped_tensor.nelement())"
   ]
  },
  {
   "cell_type": "code",
   "execution_count": 5,
   "id": "b9dbb760",
   "metadata": {},
   "outputs": [
    {
     "name": "stdout",
     "output_type": "stream",
     "text": [
      "True\n",
      "tensor([ 0,  1,  2,  3,  4,  5,  6,  7,  8,  9, 10, 11])\n"
     ]
    }
   ],
   "source": [
    "# view\n",
    "print(original_tensor.is_contiguous())\n",
    "flattened_tensor = original_tensor.view(-1)\n",
    "print(flattened_tensor)"
   ]
  },
  {
   "cell_type": "markdown",
   "id": "d7300111",
   "metadata": {},
   "source": [
    "# Slicing"
   ]
  },
  {
   "cell_type": "markdown",
   "id": "46699188",
   "metadata": {},
   "source": [
    "Extract specific portions of tensors\n"
   ]
  },
  {
   "cell_type": "code",
   "execution_count": 6,
   "id": "57d36c1a",
   "metadata": {},
   "outputs": [
    {
     "name": "stdout",
     "output_type": "stream",
     "text": [
      "tensor([[1, 2, 3],\n",
      "        [4, 5, 6],\n",
      "        [7, 8, 9]])\n",
      "2\n"
     ]
    }
   ],
   "source": [
    "tensor_a = torch.tensor([[1,2,3],[4,5,6],[7,8,9]])\n",
    "print(tensor_a)\n",
    "print(tensor_a.ndim)"
   ]
  },
  {
   "cell_type": "code",
   "execution_count": 7,
   "id": "6ca87e24",
   "metadata": {},
   "outputs": [
    {
     "name": "stdout",
     "output_type": "stream",
     "text": [
      "tensor([1, 2, 3])\n"
     ]
    }
   ],
   "source": [
    "print(tensor_a[0])"
   ]
  },
  {
   "cell_type": "code",
   "execution_count": 8,
   "id": "a9a78952",
   "metadata": {},
   "outputs": [
    {
     "data": {
      "text/plain": [
       "tensor([3, 6, 9])"
      ]
     },
     "execution_count": 8,
     "metadata": {},
     "output_type": "execute_result"
    }
   ],
   "source": [
    "tensor_a[:,2]"
   ]
  },
  {
   "cell_type": "code",
   "execution_count": 9,
   "id": "99289b9b",
   "metadata": {},
   "outputs": [
    {
     "name": "stdout",
     "output_type": "stream",
     "text": [
      "torch.Size([3, 3])\n"
     ]
    }
   ],
   "source": [
    "print(tensor_a.shape)"
   ]
  },
  {
   "cell_type": "code",
   "execution_count": 10,
   "id": "1cf1e0ae",
   "metadata": {},
   "outputs": [
    {
     "name": "stdout",
     "output_type": "stream",
     "text": [
      "torch.Size([2, 2])\n",
      "tensor([[5, 6],\n",
      "        [8, 9]])\n"
     ]
    }
   ],
   "source": [
    "sub_tensor = tensor_a[1:,1:]\n",
    "print(sub_tensor.shape)\n",
    "print(sub_tensor)"
   ]
  },
  {
   "cell_type": "code",
   "execution_count": null,
   "id": "5b72d67a",
   "metadata": {},
   "outputs": [],
   "source": []
  }
 ],
 "metadata": {
  "kernelspec": {
   "display_name": "Python 3",
   "language": "python",
   "name": "python3"
  },
  "language_info": {
   "codemirror_mode": {
    "name": "ipython",
    "version": 3
   },
   "file_extension": ".py",
   "mimetype": "text/x-python",
   "name": "python",
   "nbconvert_exporter": "python",
   "pygments_lexer": "ipython3",
   "version": "3.11.8"
  }
 },
 "nbformat": 4,
 "nbformat_minor": 5
}
