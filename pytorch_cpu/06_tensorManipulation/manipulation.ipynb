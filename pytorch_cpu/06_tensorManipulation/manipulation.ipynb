{
 "cells": [
  {
   "cell_type": "markdown",
   "id": "d497705a",
   "metadata": {},
   "source": [
    "## tensor manipulation\n",
    "\n",
    "- reshaping\n",
    "- slicing\n",
    "- joining or splitting\n",
    "- transposing and permuting dimension"
   ]
  },
  {
   "cell_type": "code",
   "execution_count": 2,
   "id": "87fa0454",
   "metadata": {},
   "outputs": [],
   "source": [
    "import torch"
   ]
  },
  {
   "cell_type": "code",
   "execution_count": null,
   "id": "e70786dc",
   "metadata": {},
   "outputs": [
    {
     "name": "stdout",
     "output_type": "stream",
     "text": [
      "tensor([ 0,  1,  2,  3,  4,  5,  6,  7,  8,  9, 10, 11])\n",
      "12\n",
      "1\n"
     ]
    }
   ],
   "source": [
    "# reshaping tensors\n",
    "# reshape\n",
    "# view\n",
    "\n",
    "original_tensor = torch.arange(12)\n",
    "print(original_tensor)\n",
    "print(original_tensor.nelement())\n",
    "print(original_tensor.ndim)"
   ]
  },
  {
   "cell_type": "code",
   "execution_count": null,
   "id": "7ee6a920",
   "metadata": {},
   "outputs": [
    {
     "name": "stdout",
     "output_type": "stream",
     "text": [
      "tensor([[ 0,  1,  2,  3,  4,  5],\n",
      "        [ 6,  7,  8,  9, 10, 11]])\n",
      "2\n",
      "12\n"
     ]
    }
   ],
   "source": [
    "# 2x6--> 12\n",
    "\n",
    "reshaped_tensor = original_tensor.reshape(2,6)\n",
    "print(reshaped_tensor)\n",
    "print(reshaped_tensor.ndim)\n",
    "print(reshaped_tensor.nelement())\n"
   ]
  },
  {
   "cell_type": "code",
   "execution_count": 4,
   "id": "8138aabb",
   "metadata": {},
   "outputs": [
    {
     "name": "stdout",
     "output_type": "stream",
     "text": [
      "tensor([[ 0,  1,  2,  3],\n",
      "        [ 4,  5,  6,  7],\n",
      "        [ 8,  9, 10, 11]])\n",
      "2\n",
      "12\n"
     ]
    }
   ],
   "source": [
    "reshaped_tensor = original_tensor.reshape(3,4)\n",
    "print(reshaped_tensor)\n",
    "print(reshaped_tensor.ndim)\n",
    "print(reshaped_tensor.nelement())"
   ]
  },
  {
   "cell_type": "code",
   "execution_count": null,
   "id": "b9dbb760",
   "metadata": {},
   "outputs": [
    {
     "name": "stdout",
     "output_type": "stream",
     "text": [
      "True\n",
      "tensor([ 0,  1,  2,  3,  4,  5,  6,  7,  8,  9, 10, 11])\n"
     ]
    }
   ],
   "source": [
    "# view\n",
    "print(original_tensor.is_contiguous())\n",
    "flattened_tensor = original_tensor.view(-1)\n",
    "print(flattened_tensor)"
   ]
  },
  {
   "cell_type": "markdown",
   "id": "d7300111",
   "metadata": {},
   "source": [
    "# Slicing\n",
    "\n",
    "Extract specific portions of tensors\n"
   ]
  },
  {
   "cell_type": "code",
   "execution_count": null,
   "id": "57d36c1a",
   "metadata": {},
   "outputs": [
    {
     "name": "stdout",
     "output_type": "stream",
     "text": [
      "tensor([[1, 2, 3],\n",
      "        [4, 5, 6],\n",
      "        [7, 8, 9]])\n",
      "2\n"
     ]
    }
   ],
   "source": [
    "tensor_a = torch.tensor([[1,2,3],[4,5,6],[7,8,9]])\n",
    "print(tensor_a)\n",
    "print(tensor_a.ndim)"
   ]
  },
  {
   "cell_type": "code",
   "execution_count": null,
   "id": "6ca87e24",
   "metadata": {},
   "outputs": [
    {
     "name": "stdout",
     "output_type": "stream",
     "text": [
      "tensor([1, 2, 3])\n"
     ]
    }
   ],
   "source": [
    "print(tensor_a[0])"
   ]
  },
  {
   "cell_type": "code",
   "execution_count": 8,
   "id": "a9a78952",
   "metadata": {},
   "outputs": [
    {
     "data": {
      "text/plain": [
       "tensor([3, 6, 9])"
      ]
     },
     "execution_count": 8,
     "metadata": {},
     "output_type": "execute_result"
    }
   ],
   "source": [
    "tensor_a[:,2]"
   ]
  },
  {
   "cell_type": "code",
   "execution_count": 9,
   "id": "99289b9b",
   "metadata": {},
   "outputs": [
    {
     "name": "stdout",
     "output_type": "stream",
     "text": [
      "torch.Size([3, 3])\n"
     ]
    }
   ],
   "source": [
    "print(tensor_a.shape)"
   ]
  },
  {
   "cell_type": "code",
   "execution_count": 10,
   "id": "1cf1e0ae",
   "metadata": {},
   "outputs": [
    {
     "name": "stdout",
     "output_type": "stream",
     "text": [
      "torch.Size([2, 2])\n",
      "tensor([[5, 6],\n",
      "        [8, 9]])\n"
     ]
    }
   ],
   "source": [
    "sub_tensor = tensor_a[1:,1:]\n",
    "print(sub_tensor.shape)\n",
    "print(sub_tensor)"
   ]
  },
  {
   "cell_type": "markdown",
   "id": "d460a3cf",
   "metadata": {},
   "source": [
    "# Joining Tensors"
   ]
  },
  {
   "cell_type": "code",
   "execution_count": 3,
   "id": "5b72d67a",
   "metadata": {},
   "outputs": [
    {
     "name": "stdout",
     "output_type": "stream",
     "text": [
      "joining\n",
      "tensor([[1, 2],\n",
      "        [3, 4]])\n",
      "tensor([[5, 6],\n",
      "        [7, 8]])\n",
      "====================\n",
      "tensor([[1, 2],\n",
      "        [3, 4],\n",
      "        [5, 6],\n",
      "        [7, 8]])\n",
      "tensor([[1, 2, 5, 6],\n",
      "        [3, 4, 7, 8]])\n"
     ]
    }
   ],
   "source": [
    "print(\"joining\")\n",
    "# torch.cat() --> merges tensors along an exisiting dimesion.\n",
    "tensor1 = torch.tensor([[1,2],[3,4]])\n",
    "tensor2 = torch.tensor([[5,6],[7,8]])\n",
    "\n",
    "print(tensor1)\n",
    "print(tensor2)\n",
    "\n",
    "print(\"=\"*20)\n",
    "\n",
    "concat_tensor_rows = torch.cat((tensor1, tensor2), dim=0)\n",
    "concat_tensor_colm = torch.cat((tensor1, tensor2), dim=1)\n",
    "\n",
    "print(concat_tensor_rows)\n",
    "print(concat_tensor_colm)"
   ]
  },
  {
   "cell_type": "code",
   "execution_count": 4,
   "id": "5516c59d",
   "metadata": {},
   "outputs": [
    {
     "name": "stdout",
     "output_type": "stream",
     "text": [
      "torch.Size([2, 2])\n",
      "torch.Size([2, 2])\n",
      "====================\n",
      "torch.Size([2, 2, 2])\n",
      "torch.Size([2, 2, 2])\n",
      "tensor([[[1, 2],\n",
      "         [3, 4]],\n",
      "\n",
      "        [[5, 6],\n",
      "         [7, 8]]])\n",
      "tensor([[[1, 2],\n",
      "         [5, 6]],\n",
      "\n",
      "        [[3, 4],\n",
      "         [7, 8]]])\n"
     ]
    }
   ],
   "source": [
    "# stack --> created a new dimension, increases the tensor's rank\n",
    "\n",
    "print(tensor1.shape)\n",
    "print(tensor2.shape)\n",
    "\n",
    "print(\"=\"*20)\n",
    "stack_tensor_rows = torch.stack((tensor1, tensor2), dim=0)\n",
    "stack_tensor_colm = torch.stack((tensor1, tensor2), dim=1)\n",
    "\n",
    "print(stack_tensor_rows.shape)\n",
    "print(stack_tensor_colm.shape)\n",
    "\n",
    "print(stack_tensor_rows)\n",
    "print(stack_tensor_colm)\n"
   ]
  },
  {
   "cell_type": "markdown",
   "id": "10f0049c",
   "metadata": {},
   "source": [
    "# Splitting tensors"
   ]
  },
  {
   "cell_type": "markdown",
   "id": "1ba92a77",
   "metadata": {},
   "source": [
    "- torch.chunk() --> divides your tensor into equal-sized chunks\n",
    "- torch.split() --> allows eneven splitting based on size"
   ]
  },
  {
   "cell_type": "code",
   "execution_count": 5,
   "id": "5143a528",
   "metadata": {},
   "outputs": [
    {
     "name": "stdout",
     "output_type": "stream",
     "text": [
      "(tensor([0, 1, 2]), tensor([3, 4, 5]), tensor([6, 7, 8]), tensor([ 9, 10, 11]))\n",
      "tensor([0, 1, 2])\n",
      "tensor([3, 4, 5])\n",
      "tensor([6, 7, 8])\n",
      "tensor([ 9, 10, 11])\n"
     ]
    }
   ],
   "source": [
    "# torch.chunk\n",
    "\n",
    "origin_tensor = torch.arange(12)\n",
    "\n",
    "chunks = torch.chunk(origin_tensor, 5, dim=0)\n",
    "\n",
    "print(chunks)\n",
    "\n",
    "for chunk in chunks:\n",
    "  print(chunk)"
   ]
  },
  {
   "cell_type": "code",
   "execution_count": 6,
   "id": "16147c7e",
   "metadata": {},
   "outputs": [
    {
     "name": "stdout",
     "output_type": "stream",
     "text": [
      "(tensor([0, 1, 2, 3, 4, 5, 6]), tensor([ 7,  8,  9, 10, 11]))\n",
      "tensor([0, 1, 2, 3, 4, 5, 6])\n",
      "tensor([ 7,  8,  9, 10, 11])\n"
     ]
    }
   ],
   "source": [
    "# torch.split\n",
    "\n",
    "splits = torch.split(origin_tensor, 7, dim=0)\n",
    "\n",
    "print(splits)\n",
    "\n",
    "for split in splits:\n",
    "  print(split)"
   ]
  },
  {
   "cell_type": "code",
   "execution_count": null,
   "id": "0b3ceb01",
   "metadata": {},
   "outputs": [],
   "source": []
  },
  {
   "cell_type": "markdown",
   "id": "ec898b26",
   "metadata": {},
   "source": [
    "## Transposing and premuting\n",
    "- transpose() -->swaps two dimesnion. mxn --> nxm\n",
    "- premute() --> rearranges all dimension in the specified order"
   ]
  },
  {
   "cell_type": "code",
   "execution_count": 7,
   "id": "924625be",
   "metadata": {},
   "outputs": [
    {
     "name": "stdout",
     "output_type": "stream",
     "text": [
      "tensor([[ 0,  1],\n",
      "        [ 2,  3],\n",
      "        [ 4,  5],\n",
      "        [ 6,  7],\n",
      "        [ 8,  9],\n",
      "        [10, 11],\n",
      "        [12, 13],\n",
      "        [14, 15],\n",
      "        [16, 17],\n",
      "        [18, 19],\n",
      "        [20, 21],\n",
      "        [22, 23]])\n",
      "torch.Size([12, 2])\n",
      "torch.Size([2, 12])\n",
      "tensor([[ 0,  2,  4,  6,  8, 10, 12, 14, 16, 18, 20, 22],\n",
      "        [ 1,  3,  5,  7,  9, 11, 13, 15, 17, 19, 21, 23]])\n"
     ]
    }
   ],
   "source": [
    "# transpose\n",
    "\n",
    "tensor_original = torch.arange(24).reshape(12,2)\n",
    "\n",
    "transposed_tensor = tensor_original.transpose(0,1)\n",
    "\n",
    "print(tensor_original)\n",
    "\n",
    "print(tensor_original.shape)\n",
    "print(transposed_tensor.shape)\n",
    "\n",
    "print(transposed_tensor)"
   ]
  },
  {
   "cell_type": "code",
   "execution_count": 8,
   "id": "58b64a61",
   "metadata": {},
   "outputs": [
    {
     "name": "stdout",
     "output_type": "stream",
     "text": [
      "24\n",
      "torch.Size([2, 3, 4])\n",
      "tensor([[[ 0,  1,  2,  3],\n",
      "         [ 4,  5,  6,  7],\n",
      "         [ 8,  9, 10, 11]],\n",
      "\n",
      "        [[12, 13, 14, 15],\n",
      "         [16, 17, 18, 19],\n",
      "         [20, 21, 22, 23]]])\n",
      "tensor([[[ 0,  4,  8],\n",
      "         [12, 16, 20]],\n",
      "\n",
      "        [[ 1,  5,  9],\n",
      "         [13, 17, 21]],\n",
      "\n",
      "        [[ 2,  6, 10],\n",
      "         [14, 18, 22]],\n",
      "\n",
      "        [[ 3,  7, 11],\n",
      "         [15, 19, 23]]])\n",
      "torch.Size([4, 2, 3])\n"
     ]
    }
   ],
   "source": [
    "tensor_original = torch.arange(24).reshape(2,3,4)\n",
    "\n",
    "print(2*3*4)\n",
    "\n",
    "print(tensor_original.shape)\n",
    "print(tensor_original)\n",
    "\n",
    "# [0,1,2]\n",
    "permuted_tensor = tensor_original.permute(2, 0, 1)\n",
    "print(permuted_tensor)\n",
    "print(permuted_tensor.shape)"
   ]
  },
  {
   "cell_type": "code",
   "execution_count": null,
   "id": "2e2e2c8b",
   "metadata": {},
   "outputs": [],
   "source": [
    "l = [4,0,1,2,3,0]"
   ]
  },
  {
   "cell_type": "markdown",
   "id": "7e096078",
   "metadata": {},
   "source": [
    "## Cloning and detaching"
   ]
  },
  {
   "cell_type": "code",
   "execution_count": 9,
   "id": "dc2f79d3",
   "metadata": {},
   "outputs": [
    {
     "name": "stdout",
     "output_type": "stream",
     "text": [
      "[1, 2, 3]\n",
      "[1, 2, 3]\n"
     ]
    }
   ],
   "source": [
    "import copy\n",
    "\n",
    "a = [1,2,3]\n",
    "b = copy.deepcopy(a)\n",
    "\n",
    "print(a)\n",
    "print(b)"
   ]
  },
  {
   "cell_type": "code",
   "execution_count": 10,
   "id": "a5b7dec0",
   "metadata": {},
   "outputs": [],
   "source": [
    "tensor = torch.ones(3,3, requires_grad=True) # part of computation graph\n",
    "\n",
    "cloned_tensor = tensor.clone() # # part of computation graph\n",
    "\n",
    "detached_tensor = tensor.detach() # this code will detach the tensor from the computation graph\n",
    "# # non a part of computation graph\n",
    "# but storage will be same as the original ones"
   ]
  }
 ],
 "metadata": {
  "kernelspec": {
   "display_name": "Python 3",
   "language": "python",
   "name": "python3"
  },
  "language_info": {
   "codemirror_mode": {
    "name": "ipython",
    "version": 3
   },
   "file_extension": ".py",
   "mimetype": "text/x-python",
   "name": "python",
   "nbconvert_exporter": "python",
   "pygments_lexer": "ipython3",
   "version": "3.11.8"
  }
 },
 "nbformat": 4,
 "nbformat_minor": 5
}
