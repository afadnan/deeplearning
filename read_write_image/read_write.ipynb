{
 "cells": [
  {
   "cell_type": "code",
   "execution_count": 1,
   "metadata": {},
   "outputs": [
    {
     "name": "stdout",
     "output_type": "stream",
     "text": [
      "Hello Deep Learning\n"
     ]
    }
   ],
   "source": [
    "print(\"Hello Deep Learning\")\n"
   ]
  },
  {
   "cell_type": "code",
   "execution_count": 4,
   "metadata": {},
   "outputs": [],
   "source": [
    "# !pip install opencv-python\n",
    "# !pip install ipykernel\n"
   ]
  },
  {
   "cell_type": "code",
   "execution_count": 2,
   "metadata": {},
   "outputs": [],
   "source": [
    "import cv2"
   ]
  },
  {
   "cell_type": "code",
   "execution_count": 3,
   "metadata": {},
   "outputs": [],
   "source": [
    "#Read the image\n",
    "image = cv2.imread(\"./optimus.jpg\") #load img in matrix grid of pixels ,return numpy array"
   ]
  },
  {
   "cell_type": "code",
   "execution_count": 4,
   "metadata": {},
   "outputs": [
    {
     "name": "stdout",
     "output_type": "stream",
     "text": [
      "Success : image is loaded successfully\n"
     ]
    }
   ],
   "source": [
    "#check image is loaded successfully\n",
    "if image is None:\n",
    "    print(\"Error : image is not loaded successfully\")\n",
    "else:\n",
    "    print(\"Success : image is loaded successfully\")\n",
    "    "
   ]
  },
  {
   "cell_type": "code",
   "execution_count": 5,
   "metadata": {},
   "outputs": [
    {
     "name": "stderr",
     "output_type": "stream",
     "text": [
      "2025-03-24 03:26:07.844 python[87866:784832] +[IMKClient subclass]: chose IMKClient_Modern\n",
      "2025-03-24 03:26:07.845 python[87866:784832] +[IMKInputSession subclass]: chose IMKInputSession_Modern\n"
     ]
    }
   ],
   "source": [
    "#Display the image\n",
    "cv2.imshow(\"Image window\",image) #open a window\n",
    "cv2.waitKey(0) #open window unit a key is pressed\n",
    "cv2.destroyAllWindows() #close the window"
   ]
  },
  {
   "cell_type": "code",
   "execution_count": null,
   "metadata": {},
   "outputs": [
    {
     "data": {
      "text/plain": [
       "True"
      ]
     },
     "execution_count": 6,
     "metadata": {},
     "output_type": "execute_result"
    }
   ],
   "source": [
    "#write and save the img\n",
    "\n",
    "image_new = image + 23\n",
    "cv2.imwrite(\"./output.jpg\", image_new)"
   ]
  }
 ],
 "metadata": {
  "kernelspec": {
   "display_name": "venvimage",
   "language": "python",
   "name": "python3"
  },
  "language_info": {
   "codemirror_mode": {
    "name": "ipython",
    "version": 3
   },
   "file_extension": ".py",
   "mimetype": "text/x-python",
   "name": "python",
   "nbconvert_exporter": "python",
   "pygments_lexer": "ipython3",
   "version": "3.11.11"
  }
 },
 "nbformat": 4,
 "nbformat_minor": 2
}
